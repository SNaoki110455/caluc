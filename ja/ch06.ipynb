{
  "cells": [
    {
      "cell_type": "markdown",
      "id": "8df29512-a5c0-4e06-8c53-91eaab143762",
      "metadata": {
        "editable": true,
        "id": "8df29512-a5c0-4e06-8c53-91eaab143762",
        "tags": []
      },
      "source": [
        "# 第6章: 単語ベクトル"
      ]
    },
    {
      "cell_type": "code",
      "source": [
        "from google.colab import drive\n",
        "drive.mount('/content/drive')"
      ],
      "metadata": {
        "id": "nM0b9OJqL5X2",
        "outputId": "d5fd8973-8581-4f4b-f812-1167dde6a150",
        "colab": {
          "base_uri": "https://localhost:8080/"
        }
      },
      "id": "nM0b9OJqL5X2",
      "execution_count": 1,
      "outputs": [
        {
          "output_type": "stream",
          "name": "stdout",
          "text": [
            "Mounted at /content/drive\n"
          ]
        }
      ]
    },
    {
      "cell_type": "code",
      "source": [
        "from google.colab import files\n",
        "uploaded = files.upload()\n"
      ],
      "metadata": {
        "id": "-dTNONcDM8hl",
        "outputId": "73a340aa-d9a1-43cb-d284-679358606bcc",
        "colab": {
          "base_uri": "https://localhost:8080/",
          "height": 60
        }
      },
      "id": "-dTNONcDM8hl",
      "execution_count": null,
      "outputs": [
        {
          "output_type": "display_data",
          "data": {
            "text/plain": [
              "<IPython.core.display.HTML object>"
            ],
            "text/html": [
              "\n",
              "     <input type=\"file\" id=\"files-b6d8bba6-a723-49e7-ba84-c1b3253cc6f0\" name=\"files[]\" multiple disabled\n",
              "        style=\"border:none\" />\n",
              "     <output id=\"result-b6d8bba6-a723-49e7-ba84-c1b3253cc6f0\">\n",
              "      Upload widget is only available when the cell has been executed in the\n",
              "      current browser session. Please rerun this cell to enable.\n",
              "      </output>\n",
              "      <script>// Copyright 2017 Google LLC\n",
              "//\n",
              "// Licensed under the Apache License, Version 2.0 (the \"License\");\n",
              "// you may not use this file except in compliance with the License.\n",
              "// You may obtain a copy of the License at\n",
              "//\n",
              "//      http://www.apache.org/licenses/LICENSE-2.0\n",
              "//\n",
              "// Unless required by applicable law or agreed to in writing, software\n",
              "// distributed under the License is distributed on an \"AS IS\" BASIS,\n",
              "// WITHOUT WARRANTIES OR CONDITIONS OF ANY KIND, either express or implied.\n",
              "// See the License for the specific language governing permissions and\n",
              "// limitations under the License.\n",
              "\n",
              "/**\n",
              " * @fileoverview Helpers for google.colab Python module.\n",
              " */\n",
              "(function(scope) {\n",
              "function span(text, styleAttributes = {}) {\n",
              "  const element = document.createElement('span');\n",
              "  element.textContent = text;\n",
              "  for (const key of Object.keys(styleAttributes)) {\n",
              "    element.style[key] = styleAttributes[key];\n",
              "  }\n",
              "  return element;\n",
              "}\n",
              "\n",
              "// Max number of bytes which will be uploaded at a time.\n",
              "const MAX_PAYLOAD_SIZE = 100 * 1024;\n",
              "\n",
              "function _uploadFiles(inputId, outputId) {\n",
              "  const steps = uploadFilesStep(inputId, outputId);\n",
              "  const outputElement = document.getElementById(outputId);\n",
              "  // Cache steps on the outputElement to make it available for the next call\n",
              "  // to uploadFilesContinue from Python.\n",
              "  outputElement.steps = steps;\n",
              "\n",
              "  return _uploadFilesContinue(outputId);\n",
              "}\n",
              "\n",
              "// This is roughly an async generator (not supported in the browser yet),\n",
              "// where there are multiple asynchronous steps and the Python side is going\n",
              "// to poll for completion of each step.\n",
              "// This uses a Promise to block the python side on completion of each step,\n",
              "// then passes the result of the previous step as the input to the next step.\n",
              "function _uploadFilesContinue(outputId) {\n",
              "  const outputElement = document.getElementById(outputId);\n",
              "  const steps = outputElement.steps;\n",
              "\n",
              "  const next = steps.next(outputElement.lastPromiseValue);\n",
              "  return Promise.resolve(next.value.promise).then((value) => {\n",
              "    // Cache the last promise value to make it available to the next\n",
              "    // step of the generator.\n",
              "    outputElement.lastPromiseValue = value;\n",
              "    return next.value.response;\n",
              "  });\n",
              "}\n",
              "\n",
              "/**\n",
              " * Generator function which is called between each async step of the upload\n",
              " * process.\n",
              " * @param {string} inputId Element ID of the input file picker element.\n",
              " * @param {string} outputId Element ID of the output display.\n",
              " * @return {!Iterable<!Object>} Iterable of next steps.\n",
              " */\n",
              "function* uploadFilesStep(inputId, outputId) {\n",
              "  const inputElement = document.getElementById(inputId);\n",
              "  inputElement.disabled = false;\n",
              "\n",
              "  const outputElement = document.getElementById(outputId);\n",
              "  outputElement.innerHTML = '';\n",
              "\n",
              "  const pickedPromise = new Promise((resolve) => {\n",
              "    inputElement.addEventListener('change', (e) => {\n",
              "      resolve(e.target.files);\n",
              "    });\n",
              "  });\n",
              "\n",
              "  const cancel = document.createElement('button');\n",
              "  inputElement.parentElement.appendChild(cancel);\n",
              "  cancel.textContent = 'Cancel upload';\n",
              "  const cancelPromise = new Promise((resolve) => {\n",
              "    cancel.onclick = () => {\n",
              "      resolve(null);\n",
              "    };\n",
              "  });\n",
              "\n",
              "  // Wait for the user to pick the files.\n",
              "  const files = yield {\n",
              "    promise: Promise.race([pickedPromise, cancelPromise]),\n",
              "    response: {\n",
              "      action: 'starting',\n",
              "    }\n",
              "  };\n",
              "\n",
              "  cancel.remove();\n",
              "\n",
              "  // Disable the input element since further picks are not allowed.\n",
              "  inputElement.disabled = true;\n",
              "\n",
              "  if (!files) {\n",
              "    return {\n",
              "      response: {\n",
              "        action: 'complete',\n",
              "      }\n",
              "    };\n",
              "  }\n",
              "\n",
              "  for (const file of files) {\n",
              "    const li = document.createElement('li');\n",
              "    li.append(span(file.name, {fontWeight: 'bold'}));\n",
              "    li.append(span(\n",
              "        `(${file.type || 'n/a'}) - ${file.size} bytes, ` +\n",
              "        `last modified: ${\n",
              "            file.lastModifiedDate ? file.lastModifiedDate.toLocaleDateString() :\n",
              "                                    'n/a'} - `));\n",
              "    const percent = span('0% done');\n",
              "    li.appendChild(percent);\n",
              "\n",
              "    outputElement.appendChild(li);\n",
              "\n",
              "    const fileDataPromise = new Promise((resolve) => {\n",
              "      const reader = new FileReader();\n",
              "      reader.onload = (e) => {\n",
              "        resolve(e.target.result);\n",
              "      };\n",
              "      reader.readAsArrayBuffer(file);\n",
              "    });\n",
              "    // Wait for the data to be ready.\n",
              "    let fileData = yield {\n",
              "      promise: fileDataPromise,\n",
              "      response: {\n",
              "        action: 'continue',\n",
              "      }\n",
              "    };\n",
              "\n",
              "    // Use a chunked sending to avoid message size limits. See b/62115660.\n",
              "    let position = 0;\n",
              "    do {\n",
              "      const length = Math.min(fileData.byteLength - position, MAX_PAYLOAD_SIZE);\n",
              "      const chunk = new Uint8Array(fileData, position, length);\n",
              "      position += length;\n",
              "\n",
              "      const base64 = btoa(String.fromCharCode.apply(null, chunk));\n",
              "      yield {\n",
              "        response: {\n",
              "          action: 'append',\n",
              "          file: file.name,\n",
              "          data: base64,\n",
              "        },\n",
              "      };\n",
              "\n",
              "      let percentDone = fileData.byteLength === 0 ?\n",
              "          100 :\n",
              "          Math.round((position / fileData.byteLength) * 100);\n",
              "      percent.textContent = `${percentDone}% done`;\n",
              "\n",
              "    } while (position < fileData.byteLength);\n",
              "  }\n",
              "\n",
              "  // All done.\n",
              "  yield {\n",
              "    response: {\n",
              "      action: 'complete',\n",
              "    }\n",
              "  };\n",
              "}\n",
              "\n",
              "scope.google = scope.google || {};\n",
              "scope.google.colab = scope.google.colab || {};\n",
              "scope.google.colab._files = {\n",
              "  _uploadFiles,\n",
              "  _uploadFilesContinue,\n",
              "};\n",
              "})(self);\n",
              "</script> "
            ]
          },
          "metadata": {}
        }
      ]
    },
    {
      "cell_type": "markdown",
      "id": "b05585fe-de49-4474-b2f9-57888e067319",
      "metadata": {
        "id": "b05585fe-de49-4474-b2f9-57888e067319"
      },
      "source": [
        "単語の意味を実ベクトルで表現する単語ベクトル（単語埋め込み）に関して、以下の処理を行うプログラムを作成せよ。"
      ]
    },
    {
      "cell_type": "markdown",
      "id": "c0afdc8e-57f5-4388-a914-1150d846d5da",
      "metadata": {
        "id": "c0afdc8e-57f5-4388-a914-1150d846d5da"
      },
      "source": [
        "## 50. 単語ベクトルの読み込みと表示\n",
        "\n",
        "Google Newsデータセット（約1,000億単語）での[学習済み単語ベクトル](https://drive.google.com/file/d/0B7XkCwpI5KDYNlNUTTlSS21pQmM/edit?usp=sharing)（300万単語・フレーズ、300次元）をダウンロードし、\"United States\"の単語ベクトルを表示せよ。ただし、\"United States\"は内部的には\"United_States\"と表現されていることに注意せよ。"
      ]
    },
    {
      "cell_type": "code",
      "source": [
        "# prompt: 単語ベクトルを表示するこーどをかいて\n",
        "\n",
        "import gensim\n",
        "\n",
        "# Google Newsの学習済み単語ベクトルをダウンロードしていない場合は、以下のコマンドでダウンロードします。\n",
        "# このファイルは非常に大きいため、ダウンロードに時間がかかります。\n",
        "# ダウンロード済みの場合はスキップしてください。\n",
        "# !wget https://s3.amazonaws.com/dl4j-distribution/GoogleNews-vectors-negative300.bin.gz\n",
        "# !gunzip GoogleNews-vectors-negative300.bin.gz\n",
        "\n",
        "# Google Newsの学習済み単語ベクトルを読み込みます。\n",
        "# ダウンロードしたファイルのパスに合わせて 'GoogleNews-vectors-negative300.bin' を変更してください。\n",
        "model_path = '/content/GoogleNews-vectors-negative300.bin'\n",
        "# バイナリ形式で保存されているため binary=True を指定\n",
        "model = gensim.models.KeyedVectors.load_word2vec_format(model_path, binary=True)\n",
        "\n",
        "# \"United States\" の単語ベクトルを取得して表示します。\n",
        "# Word2Vecモデル内部では \"United States\" は \"United_States\" として表現されています。\n",
        "word = \"United_States\"\n",
        "\n",
        "if word in model:\n",
        "  vector = model[word]\n",
        "  print(f'\"{word}\" の単語ベクトル:')\n",
        "  print(vector)\n",
        "else:\n",
        "  print(f'\"{word}\" はモデルのボキャブラリーに含まれていません。')"
      ],
      "metadata": {
        "id": "6cJPDPoJMHSn",
        "outputId": "f4e1df99-4ee9-4845-8061-ca47ef7307c6",
        "colab": {
          "base_uri": "https://localhost:8080/",
          "height": 149
        }
      },
      "id": "6cJPDPoJMHSn",
      "execution_count": 2,
      "outputs": [
        {
          "output_type": "error",
          "ename": "NameError",
          "evalue": "name '単語ベクトルを表示するコードを書いて' is not defined",
          "traceback": [
            "\u001b[0;31m---------------------------------------------------------------------------\u001b[0m",
            "\u001b[0;31mNameError\u001b[0m                                 Traceback (most recent call last)",
            "\u001b[0;32m<ipython-input-2-14ad83fc9ff8>\u001b[0m in \u001b[0;36m<cell line: 0>\u001b[0;34m()\u001b[0m\n\u001b[0;32m----> 1\u001b[0;31m \u001b[0m単語ベクトルを表示するコードを書いて\u001b[0m\u001b[0;34m\u001b[0m\u001b[0;34m\u001b[0m\u001b[0m\n\u001b[0m",
            "\u001b[0;31mNameError\u001b[0m: name '単語ベクトルを表示するコードを書いて' is not defined"
          ]
        }
      ]
    },
    {
      "cell_type": "code",
      "source": [],
      "metadata": {
        "id": "JPgI9zvNMFlu"
      },
      "id": "JPgI9zvNMFlu",
      "execution_count": null,
      "outputs": []
    },
    {
      "cell_type": "markdown",
      "id": "c4e3bb10-c37f-4395-9397-ac71e36bf4ed",
      "metadata": {
        "id": "c4e3bb10-c37f-4395-9397-ac71e36bf4ed"
      },
      "source": [
        "## 51. 単語の類似度\n",
        "\n",
        "\"United States\"と\"U.S.\"のコサイン類似度を計算せよ。"
      ]
    },
    {
      "cell_type": "markdown",
      "id": "36314a02-d3d8-4121-b310-e800b2d1ce3e",
      "metadata": {
        "id": "36314a02-d3d8-4121-b310-e800b2d1ce3e"
      },
      "source": [
        "## 52. 類似度の高い単語10件\n",
        "\n",
        "\"United States\"とコサイン類似度が高い10語と、その類似度を出力せよ。"
      ]
    },
    {
      "cell_type": "markdown",
      "id": "6de3ff5c-5285-4e96-b8d7-4f995635d146",
      "metadata": {
        "id": "6de3ff5c-5285-4e96-b8d7-4f995635d146"
      },
      "source": [
        "## 53. 加法構成性によるアナロジー\n",
        "\n",
        "\"Spain\"の単語ベクトルから\"Madrid\"のベクトルを引き、\"Athens\"のベクトルを足したベクトルを計算し、そのベクトルと類似度の高い10語とその類似度を出力せよ。"
      ]
    },
    {
      "cell_type": "markdown",
      "id": "d5db38ad-b7f4-40b2-a068-0dea071d23e7",
      "metadata": {
        "id": "d5db38ad-b7f4-40b2-a068-0dea071d23e7"
      },
      "source": [
        "## 54. アナロジーデータでの実験\n",
        "\n",
        "[単語アナロジーの評価データ](http://download.tensorflow.org/data/questions-words.txt)をダウンロードし、国と首都に関する事例（`: capital-common-countries`セクション）に対して、vec(2列目の単語) - vec(1列目の単語) + vec(3列目の単語)を計算し、そのベクトルと類似度が最も高い単語と、その類似度を求めよ。求めた単語と類似度は、各事例と一緒に記録せよ。"
      ]
    },
    {
      "cell_type": "markdown",
      "id": "dbc1fcff-5555-44da-8b4c-12d97ede10e8",
      "metadata": {
        "id": "dbc1fcff-5555-44da-8b4c-12d97ede10e8"
      },
      "source": [
        "## 55. アナロジータスクでの正解率\n",
        "\n",
        "54の実行結果を用い、意味的アナロジー（semantic analogy）と文法的アナロジー（syntactic analogy）の正解率を測定せよ。"
      ]
    },
    {
      "cell_type": "markdown",
      "id": "b62a9077-45e9-4cf2-8546-5e5b226b4cb6",
      "metadata": {
        "id": "b62a9077-45e9-4cf2-8546-5e5b226b4cb6"
      },
      "source": [
        "## 56. WordSimilarity-353での評価\n",
        "\n",
        "[The WordSimilarity-353 Test Collection](http://www.gabrilovich.com/resources/data/wordsim353/wordsim353.html)の評価データをダウンロードし、単語ベクトルにより計算される類似度のランキングと、人間の類似度判定のランキングの間のスピアマン相関係数を計算せよ。"
      ]
    },
    {
      "cell_type": "markdown",
      "id": "4e45f26a-5896-453b-a11b-a97ef3b3900c",
      "metadata": {
        "id": "4e45f26a-5896-453b-a11b-a97ef3b3900c"
      },
      "source": [
        "## 57. k-meansクラスタリング\n",
        "\n",
        "国名に関する単語ベクトルを抽出し、k-meansクラスタリングをクラスタ数k=5として実行せよ。"
      ]
    },
    {
      "cell_type": "markdown",
      "id": "c63cb16e-7cbe-49e8-8f66-d703600128fa",
      "metadata": {
        "id": "c63cb16e-7cbe-49e8-8f66-d703600128fa"
      },
      "source": [
        "## 58. Ward法によるクラスタリング\n",
        "\n",
        "国名に関する単語ベクトルに対し、Ward法による階層型クラスタリングを実行せよ。さらに、クラスタリング結果をデンドログラムとして可視化せよ。"
      ]
    },
    {
      "cell_type": "markdown",
      "id": "epeDPNhuFoEY",
      "metadata": {
        "id": "epeDPNhuFoEY"
      },
      "source": [
        "## 59. t-SNEによる可視化\n",
        "\n",
        "ベクトル空間上の国名に関する単語ベクトルをt-SNEで可視化せよ。"
      ]
    }
  ],
  "metadata": {
    "colab": {
      "provenance": []
    },
    "kernelspec": {
      "display_name": "Python 3 (ipykernel)",
      "language": "python",
      "name": "python3"
    },
    "language_info": {
      "codemirror_mode": {
        "name": "ipython",
        "version": 3
      },
      "file_extension": ".py",
      "mimetype": "text/x-python",
      "name": "python",
      "nbconvert_exporter": "python",
      "pygments_lexer": "ipython3",
      "version": "3.12.3"
    }
  },
  "nbformat": 4,
  "nbformat_minor": 5
}